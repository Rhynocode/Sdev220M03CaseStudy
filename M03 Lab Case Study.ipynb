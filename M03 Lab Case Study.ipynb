{
 "cells": [
  {
   "cell_type": "markdown",
   "id": "a3bddafb-4ebf-4501-9960-b47945a40570",
   "metadata": {},
   "source": [
    "Ryan Hayes\n",
    "SDEV220\n",
    "M03 Lab - Case Study: Lists, Functions, and Classes\n",
    "Program accepts inputs for car information and displays them back in a readable format."
   ]
  },
  {
   "cell_type": "code",
   "execution_count": 2,
   "id": "5efa7955-5f98-43a7-8f5f-7e4ce65b8cef",
   "metadata": {},
   "outputs": [
    {
     "name": "stdout",
     "output_type": "stream",
     "text": [
      "Welcome to the Automobile Information System\n"
     ]
    },
    {
     "name": "stdin",
     "output_type": "stream",
     "text": [
      "Enter the year of the car (e.g., 2020):  78987\n"
     ]
    },
    {
     "name": "stdout",
     "output_type": "stream",
     "text": [
      "Invalid input. Please enter a 4-digit year, like 1992.\n"
     ]
    },
    {
     "name": "stdin",
     "output_type": "stream",
     "text": [
      "Enter the year of the car (e.g., 2020):  1992\n",
      "Enter the make of the car (e.g., Toyota):  greg\n",
      "Enter the model of the car (e.g., Corolla):  jukr\n",
      "Enter the number of doors (2 or 4):  cat\n"
     ]
    },
    {
     "name": "stdout",
     "output_type": "stream",
     "text": [
      "Invalid input. Please enter either 2 or 4.\n"
     ]
    },
    {
     "name": "stdin",
     "output_type": "stream",
     "text": [
      "Enter the number of doors (2 or 4):  2\n",
      "Enter the type of roof (Solid or Sun):  solid\n"
     ]
    },
    {
     "name": "stdout",
     "output_type": "stream",
     "text": [
      "\n",
      "Vehicle type: Car\n",
      "Year: 1992\n",
      "Make: Greg\n",
      "Model: Jukr\n",
      "Number of doors: 2\n",
      "Type of roof: Solid\n"
     ]
    }
   ],
   "source": [
    "class Vehicle:\n",
    "    def __init__(self, vehicle_type):\n",
    "        self.vehicle_type = vehicle_type.capitalize()\n",
    "\n",
    "class Automobile(Vehicle):\n",
    "    def __init__(self, vehicle_type, year, make, model, doors, roof):\n",
    "        super().__init__(vehicle_type)\n",
    "        self.year = year\n",
    "        self.make = make.capitalize()\n",
    "        self.model = model.capitalize()\n",
    "        self.doors = doors\n",
    "        self.roof = roof.capitalize()\n",
    "\n",
    "    def display_info(self):\n",
    "        print(f\"\\nVehicle type: {self.vehicle_type}\")\n",
    "        print(f\"Year: {self.year}\")\n",
    "        print(f\"Make: {self.make}\")\n",
    "        print(f\"Model: {self.model}\")\n",
    "        print(f\"Number of doors: {self.doors}\")\n",
    "        print(f\"Type of roof: {self.roof}\")\n",
    "\n",
    "def get_input(prompt, type_check=None, valid_options=None):\n",
    "    while True:\n",
    "        user_input = input(prompt)\n",
    "        if type_check == 'year':\n",
    "            if not user_input.isdigit() or not len(user_input) == 4:\n",
    "                print(\"Invalid input. Please enter a 4-digit year, like 1992.\")\n",
    "                continue\n",
    "        elif type_check == 'doors':\n",
    "            if user_input not in ['2', '4']:\n",
    "                print(\"Invalid input. Please enter either 2 or 4.\")\n",
    "                continue\n",
    "        elif valid_options and user_input.lower() not in valid_options:\n",
    "            options_str = ', '.join([option.capitalize() for option in valid_options])\n",
    "            print(f\"Invalid input. Please enter one of the following: {options_str}\")\n",
    "            continue\n",
    "        \n",
    "        if user_input.lower() == \"sun\":\n",
    "            return \"Sun Roof\"\n",
    "        return user_input.capitalize()\n",
    "\n",
    "def main():\n",
    "    print(\"Welcome to the Automobile Information System\")\n",
    "    vehicle_type = \"Car\"  # Assuming the vehicle type is always a car for this assignment\n",
    "\n",
    "    year = get_input(\"Enter the year of the car (e.g., 2020): \", type_check='year')\n",
    "    make = get_input(\"Enter the make of the car (e.g., Toyota): \")\n",
    "    model = get_input(\"Enter the model of the car (e.g., Corolla): \")\n",
    "    doors = get_input(\"Enter the number of doors (2 or 4): \", type_check='doors')\n",
    "    roof = get_input(\"Enter the type of roof (Solid or Sun): \", valid_options=[\"solid\", \"sun\"])\n",
    "\n",
    "    # Creating an Automobile object with user input\n",
    "    car = Automobile(vehicle_type, year, make, model, doors, roof)\n",
    "\n",
    "    # Displaying the car information\n",
    "    car.display_info()\n",
    "\n",
    "if __name__ == \"__main__\":\n",
    "    main()\n"
   ]
  },
  {
   "cell_type": "code",
   "execution_count": null,
   "id": "387d8fe9-465f-4553-b7fd-0e95c4afdf3f",
   "metadata": {},
   "outputs": [],
   "source": []
  }
 ],
 "metadata": {
  "kernelspec": {
   "display_name": "Python 3 (ipykernel)",
   "language": "python",
   "name": "python3"
  },
  "language_info": {
   "codemirror_mode": {
    "name": "ipython",
    "version": 3
   },
   "file_extension": ".py",
   "mimetype": "text/x-python",
   "name": "python",
   "nbconvert_exporter": "python",
   "pygments_lexer": "ipython3",
   "version": "3.11.7"
  }
 },
 "nbformat": 4,
 "nbformat_minor": 5
}
